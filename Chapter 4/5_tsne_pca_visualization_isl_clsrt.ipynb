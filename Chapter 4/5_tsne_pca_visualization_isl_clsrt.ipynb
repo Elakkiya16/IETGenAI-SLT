{
  "cells": [
    {
      "cell_type": "markdown",
      "id": "344b83cf",
      "metadata": {
        "id": "344b83cf"
      },
      "source": [
        "# Embedding Visualization (t-SNE / PCA) on ISL_CLSRT Dataset\n",
        "\n",
        "This notebook visualizes the distribution of gloss sentence embeddings using **t-SNE** and **PCA** dimensionality reduction techniques. Such visualization provides intuitive insights into clustering and separation in semantic space.\n"
      ]
    },
    {
      "cell_type": "code",
      "execution_count": null,
      "id": "b75f4184",
      "metadata": {
        "id": "b75f4184"
      },
      "outputs": [],
      "source": [
        "# !pip install sentence-transformers matplotlib seaborn scikit-learn pandas\n"
      ]
    },
    {
      "cell_type": "code",
      "execution_count": null,
      "id": "b1748e9d",
      "metadata": {
        "id": "b1748e9d"
      },
      "outputs": [],
      "source": [
        "import pandas as pd\n",
        "from sentence_transformers import SentenceTransformer\n",
        "from sklearn.decomposition import PCA\n",
        "from sklearn.manifold import TSNE\n",
        "import matplotlib.pyplot as plt\n",
        "import seaborn as sns"
      ]
    },
    {
      "cell_type": "code",
      "source": [
        "from google.colab import drive\n",
        "drive.mount('/content/drive')"
      ],
      "metadata": {
        "colab": {
          "base_uri": "https://localhost:8080/"
        },
        "id": "ehc1U85jsaB-",
        "outputId": "40ce4b52-d1bf-406a-85b3-564d65efbcf8"
      },
      "id": "ehc1U85jsaB-",
      "execution_count": null,
      "outputs": [
        {
          "output_type": "stream",
          "name": "stdout",
          "text": [
            "Mounted at /content/drive\n"
          ]
        }
      ]
    },
    {
      "cell_type": "code",
      "execution_count": null,
      "id": "6d54a243",
      "metadata": {
        "colab": {
          "base_uri": "https://localhost:8080/",
          "height": 206
        },
        "id": "6d54a243",
        "outputId": "c9a2a23f-3c0f-4363-e258-9ce39f284966"
      },
      "outputs": [
        {
          "output_type": "execute_result",
          "data": {
            "text/plain": [
              "     cleaned_gloss\n",
              "0  MAKE DIFFERENCE\n",
              "1       TELL TRUTH\n",
              "2           FAVOUR\n",
              "3            WORRY\n",
              "4            ABUSE"
            ],
            "text/html": [
              "\n",
              "  <div id=\"df-401e1fc6-2e8b-4152-8a95-94f426c86adf\" class=\"colab-df-container\">\n",
              "    <div>\n",
              "<style scoped>\n",
              "    .dataframe tbody tr th:only-of-type {\n",
              "        vertical-align: middle;\n",
              "    }\n",
              "\n",
              "    .dataframe tbody tr th {\n",
              "        vertical-align: top;\n",
              "    }\n",
              "\n",
              "    .dataframe thead th {\n",
              "        text-align: right;\n",
              "    }\n",
              "</style>\n",
              "<table border=\"1\" class=\"dataframe\">\n",
              "  <thead>\n",
              "    <tr style=\"text-align: right;\">\n",
              "      <th></th>\n",
              "      <th>cleaned_gloss</th>\n",
              "    </tr>\n",
              "  </thead>\n",
              "  <tbody>\n",
              "    <tr>\n",
              "      <th>0</th>\n",
              "      <td>MAKE DIFFERENCE</td>\n",
              "    </tr>\n",
              "    <tr>\n",
              "      <th>1</th>\n",
              "      <td>TELL TRUTH</td>\n",
              "    </tr>\n",
              "    <tr>\n",
              "      <th>2</th>\n",
              "      <td>FAVOUR</td>\n",
              "    </tr>\n",
              "    <tr>\n",
              "      <th>3</th>\n",
              "      <td>WORRY</td>\n",
              "    </tr>\n",
              "    <tr>\n",
              "      <th>4</th>\n",
              "      <td>ABUSE</td>\n",
              "    </tr>\n",
              "  </tbody>\n",
              "</table>\n",
              "</div>\n",
              "    <div class=\"colab-df-buttons\">\n",
              "\n",
              "  <div class=\"colab-df-container\">\n",
              "    <button class=\"colab-df-convert\" onclick=\"convertToInteractive('df-401e1fc6-2e8b-4152-8a95-94f426c86adf')\"\n",
              "            title=\"Convert this dataframe to an interactive table.\"\n",
              "            style=\"display:none;\">\n",
              "\n",
              "  <svg xmlns=\"http://www.w3.org/2000/svg\" height=\"24px\" viewBox=\"0 -960 960 960\">\n",
              "    <path d=\"M120-120v-720h720v720H120Zm60-500h600v-160H180v160Zm220 220h160v-160H400v160Zm0 220h160v-160H400v160ZM180-400h160v-160H180v160Zm440 0h160v-160H620v160ZM180-180h160v-160H180v160Zm440 0h160v-160H620v160Z\"/>\n",
              "  </svg>\n",
              "    </button>\n",
              "\n",
              "  <style>\n",
              "    .colab-df-container {\n",
              "      display:flex;\n",
              "      gap: 12px;\n",
              "    }\n",
              "\n",
              "    .colab-df-convert {\n",
              "      background-color: #E8F0FE;\n",
              "      border: none;\n",
              "      border-radius: 50%;\n",
              "      cursor: pointer;\n",
              "      display: none;\n",
              "      fill: #1967D2;\n",
              "      height: 32px;\n",
              "      padding: 0 0 0 0;\n",
              "      width: 32px;\n",
              "    }\n",
              "\n",
              "    .colab-df-convert:hover {\n",
              "      background-color: #E2EBFA;\n",
              "      box-shadow: 0px 1px 2px rgba(60, 64, 67, 0.3), 0px 1px 3px 1px rgba(60, 64, 67, 0.15);\n",
              "      fill: #174EA6;\n",
              "    }\n",
              "\n",
              "    .colab-df-buttons div {\n",
              "      margin-bottom: 4px;\n",
              "    }\n",
              "\n",
              "    [theme=dark] .colab-df-convert {\n",
              "      background-color: #3B4455;\n",
              "      fill: #D2E3FC;\n",
              "    }\n",
              "\n",
              "    [theme=dark] .colab-df-convert:hover {\n",
              "      background-color: #434B5C;\n",
              "      box-shadow: 0px 1px 3px 1px rgba(0, 0, 0, 0.15);\n",
              "      filter: drop-shadow(0px 1px 2px rgba(0, 0, 0, 0.3));\n",
              "      fill: #FFFFFF;\n",
              "    }\n",
              "  </style>\n",
              "\n",
              "    <script>\n",
              "      const buttonEl =\n",
              "        document.querySelector('#df-401e1fc6-2e8b-4152-8a95-94f426c86adf button.colab-df-convert');\n",
              "      buttonEl.style.display =\n",
              "        google.colab.kernel.accessAllowed ? 'block' : 'none';\n",
              "\n",
              "      async function convertToInteractive(key) {\n",
              "        const element = document.querySelector('#df-401e1fc6-2e8b-4152-8a95-94f426c86adf');\n",
              "        const dataTable =\n",
              "          await google.colab.kernel.invokeFunction('convertToInteractive',\n",
              "                                                    [key], {});\n",
              "        if (!dataTable) return;\n",
              "\n",
              "        const docLinkHtml = 'Like what you see? Visit the ' +\n",
              "          '<a target=\"_blank\" href=https://colab.research.google.com/notebooks/data_table.ipynb>data table notebook</a>'\n",
              "          + ' to learn more about interactive tables.';\n",
              "        element.innerHTML = '';\n",
              "        dataTable['output_type'] = 'display_data';\n",
              "        await google.colab.output.renderOutput(dataTable, element);\n",
              "        const docLink = document.createElement('div');\n",
              "        docLink.innerHTML = docLinkHtml;\n",
              "        element.appendChild(docLink);\n",
              "      }\n",
              "    </script>\n",
              "  </div>\n",
              "\n",
              "\n",
              "    <div id=\"df-f02a6b23-d9b6-4649-9c7a-2cb81e001f5c\">\n",
              "      <button class=\"colab-df-quickchart\" onclick=\"quickchart('df-f02a6b23-d9b6-4649-9c7a-2cb81e001f5c')\"\n",
              "                title=\"Suggest charts\"\n",
              "                style=\"display:none;\">\n",
              "\n",
              "<svg xmlns=\"http://www.w3.org/2000/svg\" height=\"24px\"viewBox=\"0 0 24 24\"\n",
              "     width=\"24px\">\n",
              "    <g>\n",
              "        <path d=\"M19 3H5c-1.1 0-2 .9-2 2v14c0 1.1.9 2 2 2h14c1.1 0 2-.9 2-2V5c0-1.1-.9-2-2-2zM9 17H7v-7h2v7zm4 0h-2V7h2v10zm4 0h-2v-4h2v4z\"/>\n",
              "    </g>\n",
              "</svg>\n",
              "      </button>\n",
              "\n",
              "<style>\n",
              "  .colab-df-quickchart {\n",
              "      --bg-color: #E8F0FE;\n",
              "      --fill-color: #1967D2;\n",
              "      --hover-bg-color: #E2EBFA;\n",
              "      --hover-fill-color: #174EA6;\n",
              "      --disabled-fill-color: #AAA;\n",
              "      --disabled-bg-color: #DDD;\n",
              "  }\n",
              "\n",
              "  [theme=dark] .colab-df-quickchart {\n",
              "      --bg-color: #3B4455;\n",
              "      --fill-color: #D2E3FC;\n",
              "      --hover-bg-color: #434B5C;\n",
              "      --hover-fill-color: #FFFFFF;\n",
              "      --disabled-bg-color: #3B4455;\n",
              "      --disabled-fill-color: #666;\n",
              "  }\n",
              "\n",
              "  .colab-df-quickchart {\n",
              "    background-color: var(--bg-color);\n",
              "    border: none;\n",
              "    border-radius: 50%;\n",
              "    cursor: pointer;\n",
              "    display: none;\n",
              "    fill: var(--fill-color);\n",
              "    height: 32px;\n",
              "    padding: 0;\n",
              "    width: 32px;\n",
              "  }\n",
              "\n",
              "  .colab-df-quickchart:hover {\n",
              "    background-color: var(--hover-bg-color);\n",
              "    box-shadow: 0 1px 2px rgba(60, 64, 67, 0.3), 0 1px 3px 1px rgba(60, 64, 67, 0.15);\n",
              "    fill: var(--button-hover-fill-color);\n",
              "  }\n",
              "\n",
              "  .colab-df-quickchart-complete:disabled,\n",
              "  .colab-df-quickchart-complete:disabled:hover {\n",
              "    background-color: var(--disabled-bg-color);\n",
              "    fill: var(--disabled-fill-color);\n",
              "    box-shadow: none;\n",
              "  }\n",
              "\n",
              "  .colab-df-spinner {\n",
              "    border: 2px solid var(--fill-color);\n",
              "    border-color: transparent;\n",
              "    border-bottom-color: var(--fill-color);\n",
              "    animation:\n",
              "      spin 1s steps(1) infinite;\n",
              "  }\n",
              "\n",
              "  @keyframes spin {\n",
              "    0% {\n",
              "      border-color: transparent;\n",
              "      border-bottom-color: var(--fill-color);\n",
              "      border-left-color: var(--fill-color);\n",
              "    }\n",
              "    20% {\n",
              "      border-color: transparent;\n",
              "      border-left-color: var(--fill-color);\n",
              "      border-top-color: var(--fill-color);\n",
              "    }\n",
              "    30% {\n",
              "      border-color: transparent;\n",
              "      border-left-color: var(--fill-color);\n",
              "      border-top-color: var(--fill-color);\n",
              "      border-right-color: var(--fill-color);\n",
              "    }\n",
              "    40% {\n",
              "      border-color: transparent;\n",
              "      border-right-color: var(--fill-color);\n",
              "      border-top-color: var(--fill-color);\n",
              "    }\n",
              "    60% {\n",
              "      border-color: transparent;\n",
              "      border-right-color: var(--fill-color);\n",
              "    }\n",
              "    80% {\n",
              "      border-color: transparent;\n",
              "      border-right-color: var(--fill-color);\n",
              "      border-bottom-color: var(--fill-color);\n",
              "    }\n",
              "    90% {\n",
              "      border-color: transparent;\n",
              "      border-bottom-color: var(--fill-color);\n",
              "    }\n",
              "  }\n",
              "</style>\n",
              "\n",
              "      <script>\n",
              "        async function quickchart(key) {\n",
              "          const quickchartButtonEl =\n",
              "            document.querySelector('#' + key + ' button');\n",
              "          quickchartButtonEl.disabled = true;  // To prevent multiple clicks.\n",
              "          quickchartButtonEl.classList.add('colab-df-spinner');\n",
              "          try {\n",
              "            const charts = await google.colab.kernel.invokeFunction(\n",
              "                'suggestCharts', [key], {});\n",
              "          } catch (error) {\n",
              "            console.error('Error during call to suggestCharts:', error);\n",
              "          }\n",
              "          quickchartButtonEl.classList.remove('colab-df-spinner');\n",
              "          quickchartButtonEl.classList.add('colab-df-quickchart-complete');\n",
              "        }\n",
              "        (() => {\n",
              "          let quickchartButtonEl =\n",
              "            document.querySelector('#df-f02a6b23-d9b6-4649-9c7a-2cb81e001f5c button');\n",
              "          quickchartButtonEl.style.display =\n",
              "            google.colab.kernel.accessAllowed ? 'block' : 'none';\n",
              "        })();\n",
              "      </script>\n",
              "    </div>\n",
              "\n",
              "    </div>\n",
              "  </div>\n"
            ],
            "application/vnd.google.colaboratory.intrinsic+json": {
              "type": "dataframe",
              "summary": "{\n  \"name\": \"df[['cleaned_gloss']]\",\n  \"rows\": 5,\n  \"fields\": [\n    {\n      \"column\": \"cleaned_gloss\",\n      \"properties\": {\n        \"dtype\": \"string\",\n        \"num_unique_values\": 5,\n        \"samples\": [\n          \"TELL TRUTH\",\n          \"ABUSE\",\n          \"FAVOUR\"\n        ],\n        \"semantic_type\": \"\",\n        \"description\": \"\"\n      }\n    }\n  ]\n}"
            }
          },
          "metadata": {},
          "execution_count": 3
        }
      ],
      "source": [
        "df = pd.read_csv('/content/drive/MyDrive/IETGenAI-SLT/Chapter 4/isl_train_meta_cleaned.csv')\n",
        "sentences = df['cleaned_gloss'].tolist()\n",
        "df[['cleaned_gloss']].head()\n"
      ]
    },
    {
      "cell_type": "code",
      "execution_count": null,
      "id": "4d50cfa7",
      "metadata": {
        "id": "4d50cfa7"
      },
      "outputs": [],
      "source": [
        "model = SentenceTransformer('sentence-transformers/all-MiniLM-L6-v2')\n",
        "\n",
        "# Ensure all elements in sentences are strings\n",
        "sentences = [str(s) for s in sentences if isinstance(s, str)]\n",
        "\n",
        "embeddings = model.encode(sentences, show_progress_bar=True)"
      ]
    },
    {
      "cell_type": "code",
      "execution_count": null,
      "id": "58ff267e",
      "metadata": {
        "colab": {
          "base_uri": "https://localhost:8080/"
        },
        "id": "58ff267e",
        "outputId": "350e84e1-8a2c-4073-8bf6-47faf1ac8ff1"
      },
      "outputs": [
        {
          "output_type": "stream",
          "name": "stderr",
          "text": [
            "/tmp/ipython-input-8-3626264902.py:7: SettingWithCopyWarning: \n",
            "A value is trying to be set on a copy of a slice from a DataFrame.\n",
            "Try using .loc[row_indexer,col_indexer] = value instead\n",
            "\n",
            "See the caveats in the documentation: https://pandas.pydata.org/pandas-docs/stable/user_guide/indexing.html#returning-a-view-versus-a-copy\n",
            "  df_filtered['pca_1'] = pca_result[:, 0]\n",
            "/tmp/ipython-input-8-3626264902.py:8: SettingWithCopyWarning: \n",
            "A value is trying to be set on a copy of a slice from a DataFrame.\n",
            "Try using .loc[row_indexer,col_indexer] = value instead\n",
            "\n",
            "See the caveats in the documentation: https://pandas.pydata.org/pandas-docs/stable/user_guide/indexing.html#returning-a-view-versus-a-copy\n",
            "  df_filtered['pca_2'] = pca_result[:, 1]\n"
          ]
        }
      ],
      "source": [
        "# Filter the DataFrame to match the sentences used for embeddings\n",
        "df_filtered = df[df['cleaned_gloss'].apply(lambda x: isinstance(x, str))]\n",
        "\n",
        "pca = PCA(n_components=2)\n",
        "pca_result = pca.fit_transform(embeddings)\n",
        "\n",
        "df_filtered['pca_1'] = pca_result[:, 0]\n",
        "df_filtered['pca_2'] = pca_result[:, 1]\n",
        "\n",
        "# Update the original DataFrame with PCA results, aligning by index\n",
        "df = df_filtered.reindex(df.index)"
      ]
    },
    {
      "cell_type": "code",
      "execution_count": null,
      "id": "49d1dcc3",
      "metadata": {
        "colab": {
          "base_uri": "https://localhost:8080/",
          "height": 564
        },
        "id": "49d1dcc3",
        "outputId": "c2c60400-5ad1-426f-e1f0-9695ee227e8a"
      },
      "outputs": [
        {
          "output_type": "display_data",
          "data": {
            "text/plain": [
              "<Figure size 800x600 with 1 Axes>"
            ],
            "image/png": "[encoded data removed]"
          },
          "metadata": {}
        }
      ],
      "source": [
        "plt.figure(figsize=(8,6))\n",
        "sns.scatterplot(x='pca_1', y='pca_2', data=df, s=60)\n",
        "plt.title(\"PCA Projection of Gloss Embeddings\")\n",
        "plt.show()\n"
      ]
    },
    {
      "cell_type": "code",
      "execution_count": null,
      "id": "d6ff3d47",
      "metadata": {
        "colab": {
          "base_uri": "https://localhost:8080/"
        },
        "id": "d6ff3d47",
        "outputId": "18ee4787-6fc2-41f6-bcaa-4a3b2e0a1f85"
      },
      "outputs": [
        {
          "output_type": "stream",
          "name": "stderr",
          "text": [
            "/tmp/ipython-input-11-1184134660.py:7: SettingWithCopyWarning: \n",
            "A value is trying to be set on a copy of a slice from a DataFrame.\n",
            "Try using .loc[row_indexer,col_indexer] = value instead\n",
            "\n",
            "See the caveats in the documentation: https://pandas.pydata.org/pandas-docs/stable/user_guide/indexing.html#returning-a-view-versus-a-copy\n",
            "  df['tsne_1'] = tsne_result[:, 0]\n",
            "/tmp/ipython-input-11-1184134660.py:8: SettingWithCopyWarning: \n",
            "A value is trying to be set on a copy of a slice from a DataFrame.\n",
            "Try using .loc[row_indexer,col_indexer] = value instead\n",
            "\n",
            "See the caveats in the documentation: https://pandas.pydata.org/pandas-docs/stable/user_guide/indexing.html#returning-a-view-versus-a-copy\n",
            "  df['tsne_2'] = tsne_result[:, 1]\n"
          ]
        }
      ],
      "source": [
        "# Ensure df is filtered to match the sentences used for embeddings\n",
        "df = df[df['cleaned_gloss'].apply(lambda x: isinstance(x, str))]\n",
        "\n",
        "tsne = TSNE(n_components=2, perplexity=30, random_state=42)\n",
        "tsne_result = tsne.fit_transform(embeddings)\n",
        "\n",
        "df['tsne_1'] = tsne_result[:, 0]\n",
        "df['tsne_2'] = tsne_result[:, 1]"
      ]
    },
    {
      "cell_type": "code",
      "execution_count": null,
      "id": "209d6311",
      "metadata": {
        "colab": {
          "base_uri": "https://localhost:8080/",
          "height": 564
        },
        "id": "209d6311",
        "outputId": "af4cdd82-007c-44cc-aa86-8337a4a088aa"
      },
      "outputs": [
        {
          "output_type": "display_data",
          "data": {
            "text/plain": [
              "<Figure size 800x600 with 1 Axes>"
            ],
            "image/png": "[encoded data removed]"
          },
          "metadata": {}
        }
      ],
      "source": [
        "plt.figure(figsize=(8,6))\n",
        "sns.scatterplot(x='tsne_1', y='tsne_2', data=df, s=60)\n",
        "plt.title(\"t-SNE Projection of Gloss Embeddings\")\n",
        "plt.show()\n"
      ]
    },
    {
      "cell_type": "markdown",
      "id": "aa2de500",
      "metadata": {
        "id": "aa2de500"
      },
      "source": [
        "### Summary\n",
        "\n",
        "We applied **PCA** and **t-SNE** to visualize gloss sentence embeddings from ISL_CLSRT. Such techniques help in analyzing semantic relationships and dataset diversity visually.\n"
      ]
    },
    {
      "cell_type": "code",
      "metadata": {
        "id": "3d19e10b"
      },
      "source": [
        "# !pip install sentence-transformers matplotlib seaborn scikit-learn pandas\n",
        "\n",
        "import pandas as pd\n",
        "from sentence_transformers import SentenceTransformer\n",
        "from sklearn.decomposition import PCA\n",
        "from sklearn.manifold import TSNE\n",
        "import matplotlib.pyplot as plt\n",
        "import seaborn as sns\n",
        "\n",
        "from google.colab import drive\n",
        "drive.mount('/content/drive')\n",
        "\n",
        "df = pd.read_csv('/content/drive/MyDrive/IETGenAI-SLT/Chapter 4/isl_train_meta_cleaned.csv')\n",
        "sentences = df['cleaned_gloss'].tolist()\n",
        "\n",
        "\n",
        "model = SentenceTransformer('sentence-transformers/all-MiniLM-L6-v2')\n",
        "\n",
        "# Ensure all elements in sentences are strings\n",
        "sentences = [str(s) for s in sentences if isinstance(s, str)]\n",
        "\n",
        "embeddings = model.encode(sentences, show_progress_bar=True)\n",
        "\n",
        "# Filter the DataFrame to match the sentences used for embeddings\n",
        "df_filtered = df[df['cleaned_gloss'].apply(lambda x: isinstance(x, str))]\n",
        "\n",
        "pca = PCA(n_components=2)\n",
        "pca_result = pca.fit_transform(embeddings)\n",
        "\n",
        "df_filtered['pca_1'] = pca_result[:, 0]\n",
        "df_filtered['pca_2'] = pca_result[:, 1]\n",
        "\n",
        "# Update the original DataFrame with PCA results, aligning by index\n",
        "df = df_filtered.reindex(df.index)\n",
        "\n",
        "\n",
        "plt.figure(figsize=(8,6))\n",
        "sns.scatterplot(x='pca_1', y='pca_2', data=df, s=60)\n",
        "plt.title(\"PCA Projection of Gloss Embeddings\")\n",
        "plt.show()\n",
        "\n",
        "\n",
        "# Ensure df is filtered to match the sentences used for embeddings\n",
        "df = df[df['cleaned_gloss'].apply(lambda x: isinstance(x, str))]\n",
        "\n",
        "tsne = TSNE(n_components=2, perplexity=30, random_state=42)\n",
        "tsne_result = tsne.fit_transform(embeddings)\n",
        "\n",
        "df['tsne_1'] = tsne_result[:, 0]\n",
        "df['tsne_2'] = tsne_result[:, 1]\n",
        "\n",
        "\n",
        "plt.figure(figsize=(8,6))\n",
        "sns.scatterplot(x='tsne_1', y='tsne_2', data=df, s=60)\n",
        "plt.title(\"t-SNE Projection of Gloss Embeddings\")\n",
        "plt.show()"
      ],
      "id": "3d19e10b",
      "execution_count": null,
      "outputs": []
    },
    {
      "cell_type": "code",
      "metadata": {
        "id": "600747fe"
      },
      "source": [
        "# !pip install sentence-transformers matplotlib seaborn scikit-learn pandas\n",
        "\n",
        "import pandas as pd\n",
        "from sentence_transformers import SentenceTransformer\n",
        "from sklearn.decomposition import PCA\n",
        "from sklearn.manifold import TSNE\n",
        "import matplotlib.pyplot as plt\n",
        "import seaborn as sns\n",
        "\n",
        "from google.colab import drive\n",
        "drive.mount('/content/drive')\n",
        "\n",
        "df = pd.read_csv('/content/drive/MyDrive/IETGenAI-SLT/Chapter 4/isl_train_meta_cleaned.csv')\n",
        "sentences = df['cleaned_gloss'].tolist()\n",
        "\n",
        "\n",
        "model = SentenceTransformer('sentence-transformers/all-MiniLM-L6-v2')\n",
        "\n",
        "# Ensure all elements in sentences are strings\n",
        "sentences = [str(s) for s in sentences if isinstance(s, str)]\n",
        "\n",
        "embeddings = model.encode(sentences, show_progress_bar=True)\n",
        "\n",
        "# Filter the DataFrame to match the sentences used for embeddings\n",
        "df_filtered = df[df['cleaned_gloss'].apply(lambda x: isinstance(x, str))]\n",
        "\n",
        "pca = PCA(n_components=2)\n",
        "pca_result = pca.fit_transform(embeddings)\n",
        "\n",
        "df_filtered['pca_1'] = pca_result[:, 0]\n",
        "df_filtered['pca_2'] = pca_result[:, 1]\n",
        "\n",
        "# Update the original DataFrame with PCA results, aligning by index\n",
        "df = df_filtered.reindex(df.index)\n",
        "\n",
        "\n",
        "plt.figure(figsize=(8,6))\n",
        "sns.scatterplot(x='pca_1', y='pca_2', data=df, s=60)\n",
        "plt.title(\"PCA Projection of Gloss Embeddings\")\n",
        "plt.show()\n",
        "\n",
        "\n",
        "# Ensure df is filtered to match the sentences used for embeddings\n",
        "df = df[df['cleaned_gloss'].apply(lambda x: isinstance(x, str))]\n",
        "\n",
        "tsne = TSNE(n_components=2, perplexity=30, random_state=42)\n",
        "tsne_result = tsne.fit_transform(embeddings)\n",
        "\n",
        "df['tsne_1'] = tsne_result[:, 0]\n",
        "df['tsne_2'] = tsne_result[:, 1]\n",
        "\n",
        "\n",
        "plt.figure(figsize=(8,6))\n",
        "sns.scatterplot(x='tsne_1', y='tsne_2', data=df, s=60)\n",
        "plt.title(\"t-SNE Projection of Gloss Embeddings\")\n",
        "plt.show()"
      ],
      "id": "600747fe",
      "execution_count": null,
      "outputs": []
    }
  ],
  "metadata": {
    "colab": {
      "provenance": []
    },
    "language_info": {
      "name": "python"
    },
    "kernelspec": {
      "name": "python3",
      "display_name": "Python 3"
    }
  },
  "nbformat": 4,
  "nbformat_minor": 5
}