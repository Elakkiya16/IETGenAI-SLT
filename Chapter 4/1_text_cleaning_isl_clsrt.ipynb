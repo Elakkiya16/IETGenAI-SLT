{
 "cells": [
  {
   "cell_type": "markdown",
   "id": "4100ec25",
   "metadata": {},
   "source": [
    "# Text Cleaning for ISL_CLSRT Dataset\n",
    "\n",
    "This notebook demonstrates how to clean sentence-level data from ISL_CLSRT dataset for Sign Language Translation tasks. It covers:\n",
    "- Lowercasing\n",
    "- Punctuation removal\n",
    "- Whitespace normalization\n",
    "- Stopword removal\n",
    "- Tokenization\n",
    "- Conversion to gloss-style (uppercase tokens)\n"
   ]
  },
  {
   "cell_type": "code",
   "execution_count": 3,
   "id": "79a62c8a",
   "metadata": {},
   "outputs": [
    {
     "name": "stderr",
     "output_type": "stream",
     "text": [
      "[nltk_data] Downloading package stopwords to /Users/mac/nltk_data...\n",
      "[nltk_data]   Package stopwords is already up-to-date!\n"
     ]
    },
    {
     "data": {
      "text/plain": [
       "True"
      ]
     },
     "execution_count": 3,
     "metadata": {},
     "output_type": "execute_result"
    }
   ],
   "source": [
    "import pandas as pd\n",
    "import re\n",
    "import nltk\n",
    "from nltk.corpus import stopwords\n",
    "\n",
    "# Download stopwords (one-time)\n",
    "nltk.download('stopwords')\n"
   ]
  },
  {
   "cell_type": "code",
   "execution_count": 4,
   "id": "918e76d4",
   "metadata": {},
   "outputs": [
    {
     "data": {
      "text/html": [
       "<div>\n",
       "<style scoped>\n",
       "    .dataframe tbody tr th:only-of-type {\n",
       "        vertical-align: middle;\n",
       "    }\n",
       "\n",
       "    .dataframe tbody tr th {\n",
       "        vertical-align: top;\n",
       "    }\n",
       "\n",
       "    .dataframe thead th {\n",
       "        text-align: right;\n",
       "    }\n",
       "</style>\n",
       "<table border=\"1\" class=\"dataframe\">\n",
       "  <thead>\n",
       "    <tr style=\"text-align: right;\">\n",
       "      <th></th>\n",
       "      <th>Sentences</th>\n",
       "      <th>File location</th>\n",
       "      <th>gloss_sequence</th>\n",
       "      <th>signer_id</th>\n",
       "      <th>sample_id</th>\n",
       "    </tr>\n",
       "  </thead>\n",
       "  <tbody>\n",
       "    <tr>\n",
       "      <th>0</th>\n",
       "      <td>it does not make any difference to me</td>\n",
       "      <td>ISL_CSLRT_Corpus\\Videos_Sentence_Level\\it does...</td>\n",
       "      <td>IT MAKE ANY DIFFERENCE  ME DO NOT</td>\n",
       "      <td>6</td>\n",
       "      <td>ISL_0278_S6</td>\n",
       "    </tr>\n",
       "    <tr>\n",
       "      <th>1</th>\n",
       "      <td>tell me truth</td>\n",
       "      <td>ISL_CSLRT_Corpus\\Videos_Sentence_Level\\tell me...</td>\n",
       "      <td>TELL TRUTH</td>\n",
       "      <td>6</td>\n",
       "      <td>ISL_0341_S6</td>\n",
       "    </tr>\n",
       "    <tr>\n",
       "      <th>2</th>\n",
       "      <td>do me a favour</td>\n",
       "      <td>ISL_CSLRT_Corpus\\Videos_Sentence_Level\\do me a...</td>\n",
       "      <td>DO  FAVOUR ME</td>\n",
       "      <td>4</td>\n",
       "      <td>ISL_0046_S4</td>\n",
       "    </tr>\n",
       "    <tr>\n",
       "      <th>3</th>\n",
       "      <td>do not worry</td>\n",
       "      <td>ISL_CSLRT_Corpus\\Videos_Sentence_Level\\do not ...</td>\n",
       "      <td>DONOT WORRY</td>\n",
       "      <td>4</td>\n",
       "      <td>ISL_0065_S4</td>\n",
       "    </tr>\n",
       "    <tr>\n",
       "      <th>4</th>\n",
       "      <td>do not abuse him</td>\n",
       "      <td>ISL_CSLRT_Corpus\\Videos_Sentence_Level\\do not ...</td>\n",
       "      <td>HIM ABUSE DONOT</td>\n",
       "      <td>5</td>\n",
       "      <td>ISL_0048_S5</td>\n",
       "    </tr>\n",
       "  </tbody>\n",
       "</table>\n",
       "</div>"
      ],
      "text/plain": [
       "                               Sentences  \\\n",
       "0  it does not make any difference to me   \n",
       "1                          tell me truth   \n",
       "2                         do me a favour   \n",
       "3                           do not worry   \n",
       "4                       do not abuse him   \n",
       "\n",
       "                                       File location  \\\n",
       "0  ISL_CSLRT_Corpus\\Videos_Sentence_Level\\it does...   \n",
       "1  ISL_CSLRT_Corpus\\Videos_Sentence_Level\\tell me...   \n",
       "2  ISL_CSLRT_Corpus\\Videos_Sentence_Level\\do me a...   \n",
       "3  ISL_CSLRT_Corpus\\Videos_Sentence_Level\\do not ...   \n",
       "4  ISL_CSLRT_Corpus\\Videos_Sentence_Level\\do not ...   \n",
       "\n",
       "                       gloss_sequence  signer_id    sample_id  \n",
       "0  IT MAKE ANY DIFFERENCE  ME DO NOT           6  ISL_0278_S6  \n",
       "1                          TELL TRUTH          6  ISL_0341_S6  \n",
       "2                       DO  FAVOUR ME          4  ISL_0046_S4  \n",
       "3                         DONOT WORRY          4  ISL_0065_S4  \n",
       "4                     HIM ABUSE DONOT          5  ISL_0048_S5  "
      ]
     },
     "execution_count": 4,
     "metadata": {},
     "output_type": "execute_result"
    }
   ],
   "source": [
    "df = pd.read_csv('isl_train_meta.csv')\n",
    "df.head()\n"
   ]
  },
  {
   "cell_type": "code",
   "execution_count": 5,
   "id": "594f96be",
   "metadata": {},
   "outputs": [],
   "source": [
    "stop_words = set(stopwords.words('english'))\n",
    "\n",
    "def clean_text(sentence, remove_stopwords=True):\n",
    "    sentence = sentence.lower()\n",
    "    sentence = re.sub(r'[^\\w\\s]', '', sentence)\n",
    "    sentence = re.sub(r'\\s+', ' ', sentence).strip()\n",
    "    tokens = sentence.split()\n",
    "    if remove_stopwords:\n",
    "        tokens = [word for word in tokens if word not in stop_words]\n",
    "    gloss = ' '.join(tokens).upper()\n",
    "    return gloss\n"
   ]
  },
  {
   "cell_type": "code",
   "execution_count": 9,
   "id": "2f69a5a7",
   "metadata": {},
   "outputs": [
    {
     "data": {
      "text/html": [
       "<div>\n",
       "<style scoped>\n",
       "    .dataframe tbody tr th:only-of-type {\n",
       "        vertical-align: middle;\n",
       "    }\n",
       "\n",
       "    .dataframe tbody tr th {\n",
       "        vertical-align: top;\n",
       "    }\n",
       "\n",
       "    .dataframe thead th {\n",
       "        text-align: right;\n",
       "    }\n",
       "</style>\n",
       "<table border=\"1\" class=\"dataframe\">\n",
       "  <thead>\n",
       "    <tr style=\"text-align: right;\">\n",
       "      <th></th>\n",
       "      <th>Sentences</th>\n",
       "      <th>cleaned_gloss</th>\n",
       "    </tr>\n",
       "  </thead>\n",
       "  <tbody>\n",
       "    <tr>\n",
       "      <th>0</th>\n",
       "      <td>it does not make any difference to me</td>\n",
       "      <td>MAKE DIFFERENCE</td>\n",
       "    </tr>\n",
       "    <tr>\n",
       "      <th>1</th>\n",
       "      <td>tell me truth</td>\n",
       "      <td>TELL TRUTH</td>\n",
       "    </tr>\n",
       "    <tr>\n",
       "      <th>2</th>\n",
       "      <td>do me a favour</td>\n",
       "      <td>FAVOUR</td>\n",
       "    </tr>\n",
       "    <tr>\n",
       "      <th>3</th>\n",
       "      <td>do not worry</td>\n",
       "      <td>WORRY</td>\n",
       "    </tr>\n",
       "    <tr>\n",
       "      <th>4</th>\n",
       "      <td>do not abuse him</td>\n",
       "      <td>ABUSE</td>\n",
       "    </tr>\n",
       "  </tbody>\n",
       "</table>\n",
       "</div>"
      ],
      "text/plain": [
       "                               Sentences    cleaned_gloss\n",
       "0  it does not make any difference to me  MAKE DIFFERENCE\n",
       "1                          tell me truth       TELL TRUTH\n",
       "2                         do me a favour           FAVOUR\n",
       "3                           do not worry            WORRY\n",
       "4                       do not abuse him            ABUSE"
      ]
     },
     "execution_count": 9,
     "metadata": {},
     "output_type": "execute_result"
    }
   ],
   "source": [
    "df['cleaned_gloss'] = df['Sentences'].apply(lambda x: clean_text(x))\n",
    "df[['Sentences', 'cleaned_gloss']].head()\n"
   ]
  },
  {
   "cell_type": "code",
   "execution_count": 11,
   "id": "66b9338e",
   "metadata": {},
   "outputs": [
    {
     "name": "stdout",
     "output_type": "stream",
     "text": [
      "Cleaned file saved as isl_train_meta_cleaned.csv\n"
     ]
    }
   ],
   "source": [
    "df.to_csv('isl_train_meta_cleaned.csv', index=False)\n",
    "print(\"Cleaned file saved as isl_train_meta_cleaned.csv\")\n"
   ]
  },
  {
   "cell_type": "markdown",
   "id": "ddb99f6e",
   "metadata": {},
   "source": [
    "### Summary:\n",
    "This notebook performed basic text preprocessing steps suitable for sign language translation tasks.\n"
   ]
  }
 ],
 "metadata": {
  "kernelspec": {
   "display_name": "Python 3.10 (tensorflow)",
   "language": "python",
   "name": "elak"
  },
  "language_info": {
   "codemirror_mode": {
    "name": "ipython",
    "version": 3
   },
   "file_extension": ".py",
   "mimetype": "text/x-python",
   "name": "python",
   "nbconvert_exporter": "python",
   "pygments_lexer": "ipython3",
   "version": "3.12.7"
  }
 },
 "nbformat": 4,
 "nbformat_minor": 5
}
