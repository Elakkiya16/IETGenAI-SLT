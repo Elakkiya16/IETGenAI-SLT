{
 "cells": [
  {
   "cell_type": "code",
   "execution_count": 4,
   "id": "473dd87a-5bdf-4696-87a1-dd7d21c69da3",
   "metadata": {},
   "outputs": [
    {
     "name": "stdout",
     "output_type": "stream",
     "text": [
      "Sample Raw Sentences:\n",
      "0    it does not make any difference to me\n",
      "1                            tell me truth\n",
      "2                           do me a favour\n",
      "3                             do not worry\n",
      "4                         do not abuse him\n",
      "Name: Sentences, dtype: object\n",
      "\n",
      "Sample Cleaned Gloss Sequences:\n",
      "                               Sentences    cleaned_gloss\n",
      "0  it does not make any difference to me  MAKE DIFFERENCE\n",
      "1                          tell me truth       TELL TRUTH\n",
      "2                         do me a favour           FAVOUR\n",
      "3                           do not worry            WORRY\n",
      "4                       do not abuse him            ABUSE\n"
     ]
    },
    {
     "name": "stderr",
     "output_type": "stream",
     "text": [
      "[nltk_data] Downloading package stopwords to /Users/mac/nltk_data...\n",
      "[nltk_data]   Package stopwords is already up-to-date!\n"
     ]
    }
   ],
   "source": [
    "# Chapter 4 - Notebook 1: Text Cleaning Demo using ISL_CSLRT Dataset\n",
    "\n",
    "\"\"\"\n",
    "This notebook demonstrates basic text preprocessing using your ISL_CSLRT dataset.\n",
    "We will:\n",
    "- Load sentences from the provided CSV file\n",
    "- Apply text normalization (lowercasing, punctuation removal)\n",
    "- Prepare gloss-style cleaned sentences\n",
    "\"\"\"\n",
    "# Import necessary libraries\n",
    "import pandas as pd\n",
    "import re\n",
    "import nltk\n",
    "from nltk.corpus import stopwords\n",
    "\n",
    "# Download NLTK stopwords if not already downloaded\n",
    "nltk.download('stopwords')\n",
    "\n",
    "# Load dataset\n",
    "df = pd.read_csv('isl_train_meta.csv')\n",
    "\n",
    "# Preview raw data\n",
    "print(\"Sample Raw Sentences:\")\n",
    "print(df['Sentences'].head())\n",
    "\n",
    "# Initialize stopwords\n",
    "stop_words = set(stopwords.words('english'))\n",
    "\n",
    "# Function: Text Cleaning Pipeline\n",
    "def clean_text(sentence, remove_stopwords=True):\n",
    "    # Step 1: Lowercase the sentence\n",
    "    sentence = sentence.lower()\n",
    "\n",
    "    # Step 2: Remove punctuations using regex\n",
    "    sentence = re.sub(r'[^\\w\\s]', '', sentence)\n",
    "\n",
    "    # Step 3: Normalize whitespace\n",
    "    sentence = re.sub(r'\\s+', ' ', sentence).strip()\n",
    "\n",
    "    # Step 4: Tokenize the sentence\n",
    "    tokens = sentence.split()\n",
    "\n",
    "    # Step 5: Optional - Remove Stopwords\n",
    "    if remove_stopwords:\n",
    "        tokens = [word for word in tokens if word not in stop_words]\n",
    "\n",
    "    # Step 6: Convert to gloss style (uppercase tokens)\n",
    "    gloss = ' '.join(tokens).upper()\n",
    "\n",
    "    return gloss\n",
    "\n",
    "# Apply Cleaning\n",
    "df['cleaned_gloss'] = df['Sentences'].apply(lambda x: clean_text(x))\n",
    "\n",
    "# Display cleaned data\n",
    "print(\"\\nSample Cleaned Gloss Sequences:\")\n",
    "print(df[['Sentences', 'cleaned_gloss']].head())\n"
   ]
  },
  {
   "cell_type": "code",
   "execution_count": null,
   "id": "5002a837-f835-4ddd-97b4-e2b7754b0519",
   "metadata": {},
   "outputs": [],
   "source": []
  }
 ],
 "metadata": {
  "kernelspec": {
   "display_name": "Python 3.10 (tensorflow)",
   "language": "python",
   "name": "elak"
  },
  "language_info": {
   "codemirror_mode": {
    "name": "ipython",
    "version": 3
   },
   "file_extension": ".py",
   "mimetype": "text/x-python",
   "name": "python",
   "nbconvert_exporter": "python",
   "pygments_lexer": "ipython3",
   "version": "3.12.7"
  }
 },
 "nbformat": 4,
 "nbformat_minor": 5
}
