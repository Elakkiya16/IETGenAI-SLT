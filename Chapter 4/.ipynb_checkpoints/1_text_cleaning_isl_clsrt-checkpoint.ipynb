{
 "cells": [
  {
   "cell_type": "markdown",
   "id": "4100ec25",
   "metadata": {},
   "source": [
    "# Text Cleaning for ISL_CLSRT Dataset\n",
    "\n",
    "This notebook demonstrates how to clean sentence-level data from ISL_CLSRT dataset for Sign Language Translation tasks. It covers:\n",
    "- Lowercasing\n",
    "- Punctuation removal\n",
    "- Whitespace normalization\n",
    "- Stopword removal\n",
    "- Tokenization\n",
    "- Conversion to gloss-style (uppercase tokens)\n"
   ]
  },
  {
   "cell_type": "code",
   "execution_count": null,
   "id": "79a62c8a",
   "metadata": {},
   "outputs": [],
   "source": [
    "import pandas as pd\n",
    "import re\n",
    "import nltk\n",
    "from nltk.corpus import stopwords\n",
    "\n",
    "# Download stopwords (one-time)\n",
    "nltk.download('stopwords')\n"
   ]
  },
  {
   "cell_type": "code",
   "execution_count": null,
   "id": "918e76d4",
   "metadata": {},
   "outputs": [],
   "source": [
    "df = pd.read_csv('isl_train_meta.csv')\n",
    "df.head()\n"
   ]
  },
  {
   "cell_type": "code",
   "execution_count": null,
   "id": "594f96be",
   "metadata": {},
   "outputs": [],
   "source": [
    "stop_words = set(stopwords.words('english'))\n",
    "\n",
    "def clean_text(sentence, remove_stopwords=True):\n",
    "    sentence = sentence.lower()\n",
    "    sentence = re.sub(r'[^\\w\\s]', '', sentence)\n",
    "    sentence = re.sub(r'\\s+', ' ', sentence).strip()\n",
    "    tokens = sentence.split()\n",
    "    if remove_stopwords:\n",
    "        tokens = [word for word in tokens if word not in stop_words]\n",
    "    gloss = ' '.join(tokens).upper()\n",
    "    return gloss\n"
   ]
  },
  {
   "cell_type": "code",
   "execution_count": null,
   "id": "2f69a5a7",
   "metadata": {},
   "outputs": [],
   "source": [
    "df['cleaned_gloss'] = df['Sentences'].apply(lambda x: clean_text(x))\n",
    "df[['Sentences', 'cleaned_gloss']].head()\n"
   ]
  },
  {
   "cell_type": "code",
   "execution_count": null,
   "id": "66b9338e",
   "metadata": {},
   "outputs": [],
   "source": [
    "df.to_csv('isl_train_meta_cleaned.csv', index=False)\n",
    "print(\"Cleaned file saved as isl_train_meta_cleaned.csv\")\n"
   ]
  },
  {
   "cell_type": "markdown",
   "id": "ddb99f6e",
   "metadata": {},
   "source": [
    "### Summary:\n",
    "This notebook performed basic text preprocessing steps suitable for sign language translation tasks.\n"
   ]
  }
 ],
 "metadata": {},
 "nbformat": 4,
 "nbformat_minor": 5
}