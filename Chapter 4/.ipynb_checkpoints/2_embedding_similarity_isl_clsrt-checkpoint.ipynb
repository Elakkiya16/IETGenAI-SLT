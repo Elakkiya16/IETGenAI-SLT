{
 "cells": [
  {
   "cell_type": "markdown",
   "id": "a5e11fff",
   "metadata": {},
   "source": [
    "# Embedding Comparison on ISL_CLSRT Dataset\n",
    "\n",
    "This notebook demonstrates how to generate sentence embeddings from cleaned gloss sentences and compute pairwise cosine similarity using sentence-transformers (BERT-tiny).\n"
   ]
  },
  {
   "cell_type": "code",
   "execution_count": null,
   "id": "14902116",
   "metadata": {},
   "outputs": [],
   "source": [
    "# !pip install sentence-transformers scikit-learn pandas\n"
   ]
  },
  {
   "cell_type": "code",
   "execution_count": null,
   "id": "82dff320",
   "metadata": {},
   "outputs": [],
   "source": [
    "import pandas as pd\n",
    "from sentence_transformers import SentenceTransformer\n",
    "from sklearn.metrics.pairwise import cosine_similarity\n",
    "import matplotlib.pyplot as plt\n",
    "import seaborn as sns\n"
   ]
  },
  {
   "cell_type": "code",
   "execution_count": null,
   "id": "e33a1c0c",
   "metadata": {},
   "outputs": [],
   "source": [
    "# Load pre-cleaned ISL_CLSRT data\n",
    "df = pd.read_csv('isl_train_meta_cleaned.csv')\n",
    "df[['Sentences', 'cleaned_gloss']].head()\n"
   ]
  },
  {
   "cell_type": "markdown",
   "id": "dbdb82cb",
   "metadata": {},
   "source": [
    "## Step 1: Initialize Sentence Transformer Model\n",
    "\n",
    "We use `all-MiniLM-L6-v2` or `bert-tiny` for a light-weight embedding extraction.\n"
   ]
  },
  {
   "cell_type": "code",
   "execution_count": null,
   "id": "8ed78b68",
   "metadata": {},
   "outputs": [],
   "source": [
    "model = SentenceTransformer('sentence-transformers/all-MiniLM-L6-v2')\n"
   ]
  },
  {
   "cell_type": "markdown",
   "id": "22636ae8",
   "metadata": {},
   "source": [
    "## Step 2: Generate Sentence Embeddings\n"
   ]
  },
  {
   "cell_type": "code",
   "execution_count": null,
   "id": "557464fb",
   "metadata": {},
   "outputs": [],
   "source": [
    "sentences = df['cleaned_gloss'].tolist()\n",
    "embeddings = model.encode(sentences, show_progress_bar=True)\n"
   ]
  },
  {
   "cell_type": "markdown",
   "id": "d2d25c78",
   "metadata": {},
   "source": [
    "## Step 3: Compute Pairwise Cosine Similarity\n"
   ]
  },
  {
   "cell_type": "code",
   "execution_count": null,
   "id": "856dbfcb",
   "metadata": {},
   "outputs": [],
   "source": [
    "similarity_matrix = cosine_similarity(embeddings)\n",
    "similarity_df = pd.DataFrame(similarity_matrix, index=df['cleaned_gloss'], columns=df['cleaned_gloss'])\n",
    "similarity_df.iloc[:5, :5]\n"
   ]
  },
  {
   "cell_type": "markdown",
   "id": "35631760",
   "metadata": {},
   "source": [
    "## Step 4: Visualize Similarity Matrix (Heatmap)\n"
   ]
  },
  {
   "cell_type": "code",
   "execution_count": null,
   "id": "4707a335",
   "metadata": {},
   "outputs": [],
   "source": [
    "plt.figure(figsize=(8,6))\n",
    "sns.heatmap(similarity_df.iloc[:10, :10], annot=True, cmap='coolwarm', fmt=\".2f\")\n",
    "plt.title(\"Cosine Similarity Heatmap (Top 10 Glosses)\")\n",
    "plt.show()\n"
   ]
  },
  {
   "cell_type": "markdown",
   "id": "5b4d1300",
   "metadata": {},
   "source": [
    "### Summary\n",
    "This notebook demonstrated how to compute semantic similarity between gloss sentences using sentence embeddings. Such techniques are useful for duplicate detection, glossary alignment, and synonym discovery in sign language corpora.\n"
   ]
  }
 ],
 "metadata": {},
 "nbformat": 4,
 "nbformat_minor": 5
}