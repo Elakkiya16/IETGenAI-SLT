{
 "cells": [
  {
   "cell_type": "code",
   "execution_count": 5,
   "id": "ceffe719-e163-433e-b5aa-37e6b852f047",
   "metadata": {},
   "outputs": [
    {
     "name": "stdout",
     "output_type": "stream",
     "text": [
      "Dataset Loaded: 500 samples\n",
      "\n",
      "Sample Raw Sentences:\n",
      "0    it does not make any difference to me\n",
      "1                            tell me truth\n",
      "2                           do me a favour\n",
      "3                             do not worry\n",
      "4                         do not abuse him\n",
      "Name: Sentences, dtype: object\n",
      "\n",
      "Cleaned sentence examples:\n",
      "                               Sentences  \\\n",
      "0  it does not make any difference to me   \n",
      "1                          tell me truth   \n",
      "2                         do me a favour   \n",
      "3                           do not worry   \n",
      "4                       do not abuse him   \n",
      "\n",
      "                        cleaned_sentence  \n",
      "0  IT DOES NOT MAKE ANY DIFFERENCE TO ME  \n",
      "1                          TELL ME TRUTH  \n",
      "2                         DO ME A FAVOUR  \n",
      "3                           DO NOT WORRY  \n",
      "4                       DO NOT ABUSE HIM  \n"
     ]
    }
   ],
   "source": [
    "# Chapter 4 - Notebook 1: Text Cleaning Demo using ISL_CSLRT Dataset\n",
    "\n",
    "\"\"\"\n",
    "This notebook demonstrates basic text preprocessing using your ISL_CSLRT dataset.\n",
    "We will:\n",
    "- Load sentences from the provided CSV file\n",
    "- Apply text normalization (lowercasing, punctuation removal)\n",
    "- Prepare gloss-style cleaned sentences\n",
    "\"\"\"\n",
    "\n",
    "import pandas as pd\n",
    "import re\n",
    "\n",
    "# Load dataset\n",
    "meta_file = \"isl_train_meta.csv\"  # path to your uploaded CSV\n",
    "\n",
    "df = pd.read_csv(meta_file)\n",
    "print(f\"Dataset Loaded: {len(df)} samples\")\n",
    "\n",
    "# Display sample sentences\n",
    "print(\"\\nSample Raw Sentences:\")\n",
    "print(df['Sentences'].head())\n",
    "\n",
    "# Simple Text Cleaning Function\n",
    "def clean_text_to_gloss(text):\n",
    "    text = text.lower()\n",
    "    text = re.sub(r'[^\\w\\s]', '', text)\n",
    "    text = re.sub(r'\\s+', ' ', text).strip()\n",
    "    return text.upper()\n",
    "\n",
    "# Apply Cleaning\n",
    "df['cleaned_sentence'] = df['Sentences'].apply(clean_text_to_gloss)\n",
    "\n",
    "print(\"\\nCleaned sentence examples:\")\n",
    "print(df[['Sentences', 'cleaned_sentence']].head())\n",
    "\n",
    "# Optional saving step\n",
    "df[['Sentences', 'cleaned_sentence']].to_csv(\"cleaned_sentences.csv\", index=False)"
   ]
  },
  {
   "cell_type": "code",
   "execution_count": null,
   "id": "473dd87a-5bdf-4696-87a1-dd7d21c69da3",
   "metadata": {},
   "outputs": [],
   "source": []
  }
 ],
 "metadata": {
  "kernelspec": {
   "display_name": "Python 3.10 (tensorflow)",
   "language": "python",
   "name": "elak"
  },
  "language_info": {
   "codemirror_mode": {
    "name": "ipython",
    "version": 3
   },
   "file_extension": ".py",
   "mimetype": "text/x-python",
   "name": "python",
   "nbconvert_exporter": "python",
   "pygments_lexer": "ipython3",
   "version": "3.12.7"
  }
 },
 "nbformat": 4,
 "nbformat_minor": 5
}
